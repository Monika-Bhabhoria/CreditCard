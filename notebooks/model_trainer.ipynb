{
 "cells": [
  {
   "cell_type": "code",
   "execution_count": 2,
   "metadata": {},
   "outputs": [],
   "source": [
    "import pandas as pd \n",
    "import numpy as np "
   ]
  },
  {
   "cell_type": "code",
   "execution_count": 3,
   "metadata": {},
   "outputs": [],
   "source": [
    "df=pd.read_csv(\"./data/UCI_Credit_Card.csv\")"
   ]
  },
  {
   "cell_type": "code",
   "execution_count": 4,
   "metadata": {},
   "outputs": [],
   "source": [
    "df.rename(columns={'default.payment.next.month':'def_pay'}, inplace=True)\n",
    "df.rename(columns={'PAY_0':'PAY_1'}, inplace=True)"
   ]
  },
  {
   "cell_type": "code",
   "execution_count": 5,
   "metadata": {},
   "outputs": [],
   "source": [
    "bins = [20,30,40,50,60,70,80]\n",
    "names = ['21-30','31-40','41-50','51-60','61-70','71-80']\n",
    "df['AGE_BIN'] = pd.cut(x=df.AGE, bins=bins, labels=names, right=True)"
   ]
  },
  {
   "cell_type": "code",
   "execution_count": 108,
   "metadata": {},
   "outputs": [],
   "source": [
    "df.SEX = df.SEX.astype(\"object\")\n",
    "df.EDUCATION = df.EDUCATION.astype(\"object\")\n",
    "df.MARRIAGE = df.MARRIAGE.astype(\"object\")\n",
    "df.PAY_1 = df.PAY_1.astype(\"object\")\n",
    "df.PAY_2 = df.PAY_2.astype(\"object\")\n",
    "df.PAY_3 = df.PAY_3.astype(\"object\")\n",
    "df.PAY_4 = df.PAY_4.astype(\"object\")\n",
    "df.PAY_5 = df.PAY_5.astype(\"object\")\n",
    "df.PAY_6 = df.PAY_6.astype(\"object\")\n",
    "df.def_type = df.def_pay.astype(\"object\")\n",
    "df.def_type = df.AGE_BIN.astype(\"object\")"
   ]
  },
  {
   "cell_type": "code",
   "execution_count": 115,
   "metadata": {},
   "outputs": [],
   "source": [
    "df_X = df.drop(['def_pay','AGE_BIN'], axis=1)\n",
    "df_y = df.def_pay"
   ]
  },
  {
   "cell_type": "code",
   "execution_count": 116,
   "metadata": {},
   "outputs": [
    {
     "name": "stdout",
     "output_type": "stream",
     "text": [
      "<class 'pandas.core.frame.DataFrame'>\n",
      "RangeIndex: 30000 entries, 0 to 29999\n",
      "Data columns (total 24 columns):\n",
      " #   Column     Non-Null Count  Dtype  \n",
      "---  ------     --------------  -----  \n",
      " 0   ID         30000 non-null  int64  \n",
      " 1   LIMIT_BAL  30000 non-null  float64\n",
      " 2   SEX        30000 non-null  object \n",
      " 3   EDUCATION  30000 non-null  object \n",
      " 4   MARRIAGE   30000 non-null  object \n",
      " 5   AGE        30000 non-null  int64  \n",
      " 6   PAY_1      30000 non-null  object \n",
      " 7   PAY_2      30000 non-null  object \n",
      " 8   PAY_3      30000 non-null  object \n",
      " 9   PAY_4      30000 non-null  object \n",
      " 10  PAY_5      30000 non-null  object \n",
      " 11  PAY_6      30000 non-null  object \n",
      " 12  BILL_AMT1  30000 non-null  float64\n",
      " 13  BILL_AMT2  30000 non-null  float64\n",
      " 14  BILL_AMT3  30000 non-null  float64\n",
      " 15  BILL_AMT4  30000 non-null  float64\n",
      " 16  BILL_AMT5  30000 non-null  float64\n",
      " 17  BILL_AMT6  30000 non-null  float64\n",
      " 18  PAY_AMT1   30000 non-null  float64\n",
      " 19  PAY_AMT2   30000 non-null  float64\n",
      " 20  PAY_AMT3   30000 non-null  float64\n",
      " 21  PAY_AMT4   30000 non-null  float64\n",
      " 22  PAY_AMT5   30000 non-null  float64\n",
      " 23  PAY_AMT6   30000 non-null  float64\n",
      "dtypes: float64(13), int64(2), object(9)\n",
      "memory usage: 5.5+ MB\n"
     ]
    }
   ],
   "source": [
    "df_X.info()"
   ]
  },
  {
   "cell_type": "code",
   "execution_count": 117,
   "metadata": {},
   "outputs": [],
   "source": [
    "categorical_cols=df_X.select_dtypes(include='object').columns"
   ]
  },
  {
   "cell_type": "code",
   "execution_count": 118,
   "metadata": {},
   "outputs": [],
   "source": [
    "numerical_cols=df_X.select_dtypes(exclude='object').columns"
   ]
  },
  {
   "cell_type": "code",
   "execution_count": 119,
   "metadata": {},
   "outputs": [
    {
     "data": {
      "text/plain": [
       "Index(['SEX', 'EDUCATION', 'MARRIAGE', 'PAY_1', 'PAY_2', 'PAY_3', 'PAY_4',\n",
       "       'PAY_5', 'PAY_6'],\n",
       "      dtype='object')"
      ]
     },
     "execution_count": 119,
     "metadata": {},
     "output_type": "execute_result"
    }
   ],
   "source": [
    "categorical_cols"
   ]
  },
  {
   "cell_type": "code",
   "execution_count": 120,
   "metadata": {},
   "outputs": [
    {
     "data": {
      "text/plain": [
       "Index(['ID', 'LIMIT_BAL', 'AGE', 'BILL_AMT1', 'BILL_AMT2', 'BILL_AMT3',\n",
       "       'BILL_AMT4', 'BILL_AMT5', 'BILL_AMT6', 'PAY_AMT1', 'PAY_AMT2',\n",
       "       'PAY_AMT3', 'PAY_AMT4', 'PAY_AMT5', 'PAY_AMT6'],\n",
       "      dtype='object')"
      ]
     },
     "execution_count": 120,
     "metadata": {},
     "output_type": "execute_result"
    }
   ],
   "source": [
    "numerical_cols"
   ]
  },
  {
   "cell_type": "code",
   "execution_count": 121,
   "metadata": {},
   "outputs": [
    {
     "data": {
      "text/html": [
       "<div>\n",
       "<style scoped>\n",
       "    .dataframe tbody tr th:only-of-type {\n",
       "        vertical-align: middle;\n",
       "    }\n",
       "\n",
       "    .dataframe tbody tr th {\n",
       "        vertical-align: top;\n",
       "    }\n",
       "\n",
       "    .dataframe thead th {\n",
       "        text-align: right;\n",
       "    }\n",
       "</style>\n",
       "<table border=\"1\" class=\"dataframe\">\n",
       "  <thead>\n",
       "    <tr style=\"text-align: right;\">\n",
       "      <th></th>\n",
       "      <th>SEX</th>\n",
       "      <th>EDUCATION</th>\n",
       "      <th>MARRIAGE</th>\n",
       "      <th>PAY_1</th>\n",
       "      <th>PAY_2</th>\n",
       "      <th>PAY_3</th>\n",
       "      <th>PAY_4</th>\n",
       "      <th>PAY_5</th>\n",
       "      <th>PAY_6</th>\n",
       "    </tr>\n",
       "  </thead>\n",
       "  <tbody>\n",
       "    <tr>\n",
       "      <th>0</th>\n",
       "      <td>2</td>\n",
       "      <td>2</td>\n",
       "      <td>1</td>\n",
       "      <td>2</td>\n",
       "      <td>2</td>\n",
       "      <td>-1</td>\n",
       "      <td>-1</td>\n",
       "      <td>-2</td>\n",
       "      <td>-2</td>\n",
       "    </tr>\n",
       "    <tr>\n",
       "      <th>1</th>\n",
       "      <td>2</td>\n",
       "      <td>2</td>\n",
       "      <td>2</td>\n",
       "      <td>-1</td>\n",
       "      <td>2</td>\n",
       "      <td>0</td>\n",
       "      <td>0</td>\n",
       "      <td>0</td>\n",
       "      <td>2</td>\n",
       "    </tr>\n",
       "    <tr>\n",
       "      <th>2</th>\n",
       "      <td>2</td>\n",
       "      <td>2</td>\n",
       "      <td>2</td>\n",
       "      <td>0</td>\n",
       "      <td>0</td>\n",
       "      <td>0</td>\n",
       "      <td>0</td>\n",
       "      <td>0</td>\n",
       "      <td>0</td>\n",
       "    </tr>\n",
       "    <tr>\n",
       "      <th>3</th>\n",
       "      <td>2</td>\n",
       "      <td>2</td>\n",
       "      <td>1</td>\n",
       "      <td>0</td>\n",
       "      <td>0</td>\n",
       "      <td>0</td>\n",
       "      <td>0</td>\n",
       "      <td>0</td>\n",
       "      <td>0</td>\n",
       "    </tr>\n",
       "    <tr>\n",
       "      <th>4</th>\n",
       "      <td>1</td>\n",
       "      <td>2</td>\n",
       "      <td>1</td>\n",
       "      <td>-1</td>\n",
       "      <td>0</td>\n",
       "      <td>-1</td>\n",
       "      <td>0</td>\n",
       "      <td>0</td>\n",
       "      <td>0</td>\n",
       "    </tr>\n",
       "    <tr>\n",
       "      <th>...</th>\n",
       "      <td>...</td>\n",
       "      <td>...</td>\n",
       "      <td>...</td>\n",
       "      <td>...</td>\n",
       "      <td>...</td>\n",
       "      <td>...</td>\n",
       "      <td>...</td>\n",
       "      <td>...</td>\n",
       "      <td>...</td>\n",
       "    </tr>\n",
       "    <tr>\n",
       "      <th>29995</th>\n",
       "      <td>1</td>\n",
       "      <td>3</td>\n",
       "      <td>1</td>\n",
       "      <td>0</td>\n",
       "      <td>0</td>\n",
       "      <td>0</td>\n",
       "      <td>0</td>\n",
       "      <td>0</td>\n",
       "      <td>0</td>\n",
       "    </tr>\n",
       "    <tr>\n",
       "      <th>29996</th>\n",
       "      <td>1</td>\n",
       "      <td>3</td>\n",
       "      <td>2</td>\n",
       "      <td>-1</td>\n",
       "      <td>-1</td>\n",
       "      <td>-1</td>\n",
       "      <td>-1</td>\n",
       "      <td>0</td>\n",
       "      <td>0</td>\n",
       "    </tr>\n",
       "    <tr>\n",
       "      <th>29997</th>\n",
       "      <td>1</td>\n",
       "      <td>2</td>\n",
       "      <td>2</td>\n",
       "      <td>4</td>\n",
       "      <td>3</td>\n",
       "      <td>2</td>\n",
       "      <td>-1</td>\n",
       "      <td>0</td>\n",
       "      <td>0</td>\n",
       "    </tr>\n",
       "    <tr>\n",
       "      <th>29998</th>\n",
       "      <td>1</td>\n",
       "      <td>3</td>\n",
       "      <td>1</td>\n",
       "      <td>1</td>\n",
       "      <td>-1</td>\n",
       "      <td>0</td>\n",
       "      <td>0</td>\n",
       "      <td>0</td>\n",
       "      <td>-1</td>\n",
       "    </tr>\n",
       "    <tr>\n",
       "      <th>29999</th>\n",
       "      <td>1</td>\n",
       "      <td>2</td>\n",
       "      <td>1</td>\n",
       "      <td>0</td>\n",
       "      <td>0</td>\n",
       "      <td>0</td>\n",
       "      <td>0</td>\n",
       "      <td>0</td>\n",
       "      <td>0</td>\n",
       "    </tr>\n",
       "  </tbody>\n",
       "</table>\n",
       "<p>30000 rows × 9 columns</p>\n",
       "</div>"
      ],
      "text/plain": [
       "      SEX EDUCATION MARRIAGE PAY_1 PAY_2 PAY_3 PAY_4 PAY_5 PAY_6\n",
       "0       2         2        1     2     2    -1    -1    -2    -2\n",
       "1       2         2        2    -1     2     0     0     0     2\n",
       "2       2         2        2     0     0     0     0     0     0\n",
       "3       2         2        1     0     0     0     0     0     0\n",
       "4       1         2        1    -1     0    -1     0     0     0\n",
       "...    ..       ...      ...   ...   ...   ...   ...   ...   ...\n",
       "29995   1         3        1     0     0     0     0     0     0\n",
       "29996   1         3        2    -1    -1    -1    -1     0     0\n",
       "29997   1         2        2     4     3     2    -1     0     0\n",
       "29998   1         3        1     1    -1     0     0     0    -1\n",
       "29999   1         2        1     0     0     0     0     0     0\n",
       "\n",
       "[30000 rows x 9 columns]"
      ]
     },
     "execution_count": 121,
     "metadata": {},
     "output_type": "execute_result"
    }
   ],
   "source": [
    "df_X.select_dtypes(include='object')"
   ]
  },
  {
   "cell_type": "code",
   "execution_count": 122,
   "metadata": {},
   "outputs": [],
   "source": [
    "SEX_categories = [1,2]\n",
    "EDUCATION_categories = [0,1,2,3,4,5,6]\n",
    "MARRIAGE_categories = [0,1,2,3]\n",
    "PAY_categories = [-1,-2,0,1,2,3,4,5,6,7,8]"
   ]
  },
  {
   "cell_type": "code",
   "execution_count": 123,
   "metadata": {},
   "outputs": [
    {
     "data": {
      "text/plain": [
       "Index(['ID', 'LIMIT_BAL', 'AGE', 'BILL_AMT1', 'BILL_AMT2', 'BILL_AMT3',\n",
       "       'BILL_AMT4', 'BILL_AMT5', 'BILL_AMT6', 'PAY_AMT1', 'PAY_AMT2',\n",
       "       'PAY_AMT3', 'PAY_AMT4', 'PAY_AMT5', 'PAY_AMT6'],\n",
       "      dtype='object')"
      ]
     },
     "execution_count": 123,
     "metadata": {},
     "output_type": "execute_result"
    }
   ],
   "source": [
    "numerical_cols"
   ]
  },
  {
   "cell_type": "code",
   "execution_count": 124,
   "metadata": {},
   "outputs": [],
   "source": [
    "from sklearn.impute import SimpleImputer ## HAndling Missing Values\n",
    "from sklearn.preprocessing import StandardScaler # HAndling Feature Scaling\n",
    "from sklearn.preprocessing import OrdinalEncoder # Ordinal Encoding\n",
    "## pipelines\n",
    "from sklearn.pipeline import Pipeline\n",
    "from sklearn.compose import ColumnTransformer"
   ]
  },
  {
   "cell_type": "code",
   "execution_count": 125,
   "metadata": {},
   "outputs": [],
   "source": [
    "num_pipeline=Pipeline(\n",
    "    \n",
    "    \n",
    "    steps=[\n",
    "        \n",
    "        ('imputer',SimpleImputer()),\n",
    "        ('scaler', StandardScaler())\n",
    "    ]\n",
    "    \n",
    "    \n",
    ")"
   ]
  },
  {
   "cell_type": "code",
   "execution_count": 126,
   "metadata": {},
   "outputs": [],
   "source": [
    "cat_pipeline=Pipeline(\n",
    "    \n",
    "    steps=[\n",
    "        ('imputer',SimpleImputer(strategy='most_frequent')),\n",
    "        ('ordinalencoder',OrdinalEncoder(categories=[SEX_categories,EDUCATION_categories,MARRIAGE_categories,PAY_categories,PAY_categories,PAY_categories,PAY_categories,PAY_categories,PAY_categories]))\n",
    "    ]\n",
    "    \n",
    ")"
   ]
  },
  {
   "cell_type": "code",
   "execution_count": 127,
   "metadata": {},
   "outputs": [],
   "source": [
    "preprocessor=ColumnTransformer(\n",
    "    [\n",
    "        \n",
    "        ('num_pipeline',num_pipeline,numerical_cols),\n",
    "        ('cat_pipeline',cat_pipeline,categorical_cols)\n",
    "    ]\n",
    ")"
   ]
  },
  {
   "cell_type": "code",
   "execution_count": 128,
   "metadata": {},
   "outputs": [],
   "source": [
    "from sklearn.model_selection import train_test_split\n",
    "\n",
    "X_train,X_test,y_train,y_test=train_test_split(df_X,df_y,test_size=0.30,random_state=30)"
   ]
  },
  {
   "cell_type": "code",
   "execution_count": 129,
   "metadata": {},
   "outputs": [
    {
     "data": {
      "text/plain": [
       "array([[-1.64367185, -1.13900338, -1.03192059, ...,  0.        ,\n",
       "         1.        ,  0.        ],\n",
       "       [-1.10533554, -0.13853957,  0.59977506, ...,  0.        ,\n",
       "         0.        ,  1.        ],\n",
       "       [ 0.49199462,  0.63104798, -0.70558146, ...,  4.        ,\n",
       "         4.        ,  4.        ],\n",
       "       ...,\n",
       "       [ 0.03176849,  0.70800674, -0.37924233, ...,  2.        ,\n",
       "         2.        ,  2.        ],\n",
       "       [-1.21152379, -0.90812712,  0.27343593, ...,  0.        ,\n",
       "         0.        ,  0.        ],\n",
       "       [-1.04883275,  0.938883  ,  1.90513158, ...,  0.        ,\n",
       "         0.        ,  0.        ]])"
      ]
     },
     "execution_count": 129,
     "metadata": {},
     "output_type": "execute_result"
    }
   ],
   "source": [
    "preprocessor.fit_transform(X_train)"
   ]
  },
  {
   "cell_type": "code",
   "execution_count": 130,
   "metadata": {},
   "outputs": [
    {
     "data": {
      "text/plain": [
       "array([[-0.84292691, -1.13900338,  0.16465622, ...,  2.        ,\n",
       "         4.        ,  2.        ],\n",
       "       [ 0.28088914,  0.32321296,  1.0348939 , ...,  1.        ,\n",
       "         1.        ,  1.        ],\n",
       "       [ 0.0769476 ,  1.86238806, -0.92314088, ...,  2.        ,\n",
       "         0.        ,  0.        ],\n",
       "       ...,\n",
       "       [ 1.0800164 , -1.13900338, -0.37924233, ...,  2.        ,\n",
       "         2.        ,  2.        ],\n",
       "       [ 1.49067261, -0.6002921 , -1.35825972, ...,  0.        ,\n",
       "         2.        ,  0.        ],\n",
       "       [ 1.12057361,  0.86192425,  1.25245332, ...,  2.        ,\n",
       "         2.        ,  2.        ]])"
      ]
     },
     "execution_count": 130,
     "metadata": {},
     "output_type": "execute_result"
    }
   ],
   "source": [
    "preprocessor.transform(X_test)"
   ]
  },
  {
   "cell_type": "code",
   "execution_count": 131,
   "metadata": {},
   "outputs": [
    {
     "data": {
      "text/plain": [
       "array(['num_pipeline__ID', 'num_pipeline__LIMIT_BAL', 'num_pipeline__AGE',\n",
       "       'num_pipeline__BILL_AMT1', 'num_pipeline__BILL_AMT2',\n",
       "       'num_pipeline__BILL_AMT3', 'num_pipeline__BILL_AMT4',\n",
       "       'num_pipeline__BILL_AMT5', 'num_pipeline__BILL_AMT6',\n",
       "       'num_pipeline__PAY_AMT1', 'num_pipeline__PAY_AMT2',\n",
       "       'num_pipeline__PAY_AMT3', 'num_pipeline__PAY_AMT4',\n",
       "       'num_pipeline__PAY_AMT5', 'num_pipeline__PAY_AMT6',\n",
       "       'cat_pipeline__SEX', 'cat_pipeline__EDUCATION',\n",
       "       'cat_pipeline__MARRIAGE', 'cat_pipeline__PAY_1',\n",
       "       'cat_pipeline__PAY_2', 'cat_pipeline__PAY_3',\n",
       "       'cat_pipeline__PAY_4', 'cat_pipeline__PAY_5',\n",
       "       'cat_pipeline__PAY_6'], dtype=object)"
      ]
     },
     "execution_count": 131,
     "metadata": {},
     "output_type": "execute_result"
    }
   ],
   "source": [
    "preprocessor.get_feature_names_out()"
   ]
  },
  {
   "cell_type": "code",
   "execution_count": 132,
   "metadata": {},
   "outputs": [],
   "source": [
    "X_train=pd.DataFrame(preprocessor.fit_transform(X_train),columns=preprocessor.get_feature_names_out())\n",
    "X_test=pd.DataFrame(preprocessor.transform(X_test),columns=preprocessor.get_feature_names_out())"
   ]
  },
  {
   "cell_type": "code",
   "execution_count": 133,
   "metadata": {},
   "outputs": [],
   "source": [
    "## Model Training\n",
    "\n",
    "from sklearn.linear_model import LogisticRegression , RidgeClassifier\n",
    "from sklearn.metrics import classification_report\n",
    "from sklearn.metrics import accuracy_score, confusion_matrix, mean_squared_error "
   ]
  },
  {
   "cell_type": "code",
   "execution_count": 134,
   "metadata": {},
   "outputs": [],
   "source": [
    "model1 = LogisticRegression()\n",
    "model1.fit(X_train,y_train)\n",
    "\n",
    "    #Make Predictions\n",
    "y_pred=model1.predict(X_test)\n",
    "\n"
   ]
  },
  {
   "cell_type": "code",
   "execution_count": 135,
   "metadata": {},
   "outputs": [
    {
     "name": "stdout",
     "output_type": "stream",
     "text": [
      "              precision    recall  f1-score   support\n",
      "\n",
      "           0       0.97      0.82      0.89      8386\n",
      "           1       0.22      0.68      0.33       614\n",
      "\n",
      "    accuracy                           0.81      9000\n",
      "   macro avg       0.59      0.75      0.61      9000\n",
      "weighted avg       0.92      0.81      0.85      9000\n",
      "\n",
      "[[6868 1518]\n",
      " [ 196  418]]\n",
      "\n",
      "Accuracy Score for model1:  0.8095555555555556\n"
     ]
    }
   ],
   "source": [
    "print(classification_report(y_pred, y_test))\n",
    "print(confusion_matrix(y_pred, y_test))\n",
    "print('\\nAccuracy Score for model1: ', accuracy_score(y_pred,y_test))"
   ]
  },
  {
   "cell_type": "code",
   "execution_count": null,
   "metadata": {},
   "outputs": [],
   "source": []
  }
 ],
 "metadata": {
  "kernelspec": {
   "display_name": "env",
   "language": "python",
   "name": "python3"
  },
  "language_info": {
   "codemirror_mode": {
    "name": "ipython",
    "version": 3
   },
   "file_extension": ".py",
   "mimetype": "text/x-python",
   "name": "python",
   "nbconvert_exporter": "python",
   "pygments_lexer": "ipython3",
   "version": "3.8.20"
  }
 },
 "nbformat": 4,
 "nbformat_minor": 2
}
